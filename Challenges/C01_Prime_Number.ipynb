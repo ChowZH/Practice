{
 "cells": [
  {
   "cell_type": "code",
   "execution_count": 1,
   "id": "73b29bf2",
   "metadata": {},
   "outputs": [],
   "source": [
    "## The challenge is the following:\n",
    "# From a series between 1-1000\n",
    "# Find all prime numbers, count them, and list them\n",
    "# Also get the time taken for the code to get the values\n",
    "# Print times not included"
   ]
  },
  {
   "cell_type": "code",
   "execution_count": 2,
   "id": "45d77224",
   "metadata": {},
   "outputs": [],
   "source": [
    "import timeit\n",
    "import matplotlib.pyplot as plt"
   ]
  },
  {
   "cell_type": "code",
   "execution_count": 3,
   "id": "af3cde0d",
   "metadata": {},
   "outputs": [],
   "source": [
    "def is_prime(x):\n",
    "    for num in range(2,x):\n",
    "        if x%num == 0:\n",
    "            return x, False\n",
    "    return x, True"
   ]
  },
  {
   "cell_type": "code",
   "execution_count": 4,
   "id": "6f8ef54f",
   "metadata": {},
   "outputs": [],
   "source": [
    "def is_prime_optim(x, prime_list):\n",
    "    for prime in prime_list:\n",
    "        if prime > 1 and x%prime == 0:\n",
    "            return x, False\n",
    "    return x, True"
   ]
  },
  {
   "cell_type": "code",
   "execution_count": 5,
   "id": "9291e6f6",
   "metadata": {},
   "outputs": [],
   "source": [
    "def main():\n",
    "    RUNS = 3\n",
    "    times_ = []\n",
    "    times_optim = []\n",
    "    for run in range(RUNS):\n",
    "        print (run)\n",
    "        PRIME_RANGE = 1_000*(10**run)\n",
    "        print (f'At {PRIME_RANGE} range:')\n",
    "        \n",
    "        start = timeit.default_timer()\n",
    "        prime_list = []\n",
    "\n",
    "        for x in range(PRIME_RANGE):\n",
    "            _val, _bool = is_prime(x)\n",
    "\n",
    "            if _bool:\n",
    "                prime_list.append(_val)\n",
    "\n",
    "        stop = timeit.default_timer()\n",
    "        time = (stop - start)*1000\n",
    "        times_.append(time)\n",
    "\n",
    "        print ('With is_prime:')\n",
    "    #     print (f'List of primes: {prime_list}')\n",
    "        print (f'Number of primes: {len(prime_list)}')\n",
    "        print (f'Time: {time:.3f}ms')\n",
    "\n",
    "        start = timeit.default_timer()\n",
    "        prime_list = []\n",
    "        last_prime = 2\n",
    "\n",
    "        for x in range(PRIME_RANGE):\n",
    "            _val, _bool = is_prime_optim(x, prime_list)\n",
    "\n",
    "            if _bool:\n",
    "                prime_list.append(_val)\n",
    "                if _val > last_prime:\n",
    "                    last_prime = _val\n",
    "\n",
    "        stop = timeit.default_timer()\n",
    "        time = (stop - start)*1000\n",
    "        times_optim.append(time)\n",
    "\n",
    "        print ('With is_prime_optim:')\n",
    "    #     print (f'List of primes: {prime_list}')\n",
    "        print (f'Number of primes: {len(prime_list)}')\n",
    "        print (f'Time: {time:.3f}ms')\n",
    "        \n",
    "    plt.plot(times_, label='is_prime')\n",
    "    plt.plot(times_optim, label='is_prime_optim')\n",
    "    plt.legend()\n",
    "    plt.show()"
   ]
  },
  {
   "cell_type": "code",
   "execution_count": 6,
   "id": "9af85a0b",
   "metadata": {
    "scrolled": true
   },
   "outputs": [
    {
     "name": "stdout",
     "output_type": "stream",
     "text": [
      "0\n",
      "At 1000 range:\n",
      "With is_prime:\n",
      "Number of primes: 170\n",
      "Time: 2.431ms\n",
      "With is_prime_optim:\n",
      "Number of primes: 170\n",
      "Time: 1.019ms\n",
      "1\n",
      "At 10000 range:\n",
      "With is_prime:\n",
      "Number of primes: 1231\n",
      "Time: 188.942ms\n",
      "With is_prime_optim:\n",
      "Number of primes: 1231\n",
      "Time: 32.602ms\n",
      "2\n",
      "At 100000 range:\n",
      "With is_prime:\n",
      "Number of primes: 9594\n",
      "Time: 15038.329ms\n",
      "With is_prime_optim:\n",
      "Number of primes: 9594\n",
      "Time: 1857.083ms\n"
     ]
    },
    {
     "data": {
      "image/png": "[encoded data removed]",
      "text/plain": [
       "<Figure size 432x288 with 1 Axes>"
      ]
     },
     "metadata": {
      "needs_background": "light"
     },
     "output_type": "display_data"
    }
   ],
   "source": [
    "if __name__ == \"__main__\":\n",
    "    main()"
   ]
  },
  {
   "cell_type": "code",
   "execution_count": null,
   "id": "eb92d260",
   "metadata": {},
   "outputs": [],
   "source": []
  }
 ],
 "metadata": {
  "kernelspec": {
   "display_name": "Python 3 (ipykernel)",
   "language": "python",
   "name": "python3"
  },
  "language_info": {
   "codemirror_mode": {
    "name": "ipython",
    "version": 3
   },
   "file_extension": ".py",
   "mimetype": "text/x-python",
   "name": "python",
   "nbconvert_exporter": "python",
   "pygments_lexer": "ipython3",
   "version": "3.9.7"
  }
 },
 "nbformat": 4,
 "nbformat_minor": 5
}

{
 "cells": [
  {
   "cell_type": "code",
   "execution_count": 1,
   "id": "a3b357e4",
   "metadata": {},
   "outputs": [],
   "source": [
    "## NN Model predictor for the data generated in Practical 1\n",
    "# Here I build a model for predicting the circle equation from the generated data in Practical 1"
   ]
  },
  {
   "cell_type": "code",
   "execution_count": 2,
   "id": "44891e43",
   "metadata": {},
   "outputs": [],
   "source": [
    "# Imports\n",
    "import torch\n",
    "import torch.nn as nn\n",
    "import sqlite3\n",
    "\n",
    "import matplotlib.pyplot as plt"
   ]
  },
  {
   "cell_type": "code",
   "execution_count": 3,
   "id": "f187b3af",
   "metadata": {},
   "outputs": [
    {
     "data": {
      "text/plain": [
       "device(type='cuda')"
      ]
     },
     "execution_count": 3,
     "metadata": {},
     "output_type": "execute_result"
    }
   ],
   "source": [
    "# Set CUDA device\n",
    "device = torch.device(\"cuda\" if torch.cuda.is_available() else \"cpu\")\n",
    "device"
   ]
  },
  {
   "cell_type": "code",
   "execution_count": 4,
   "id": "df11321f",
   "metadata": {},
   "outputs": [],
   "source": [
    "# Data import\n",
    "def get_data(path):\n",
    "    # Takes x_tilde and y_tilde from practical_1.db and returns them as GPU tensors\n",
    "    db = sqlite3.connect(path)\n",
    "\n",
    "    cursor = db.execute('''\n",
    "    SELECT * FROM COORDINATES\n",
    "    ''')\n",
    "\n",
    "    x = []\n",
    "    y = []\n",
    "\n",
    "    for row in cursor:\n",
    "        x.append(row[3])\n",
    "        y.append(row[4])\n",
    "\n",
    "    x = torch.tensor(x).to(device)\n",
    "    y = torch.tensor(y).to(device)\n",
    "    \n",
    "    return x, y\n",
    "    \n",
    "x_dat, y_dat = get_data('Practical_1.db')"
   ]
  },
  {
   "cell_type": "code",
   "execution_count": 5,
   "id": "e26b0a49",
   "metadata": {},
   "outputs": [
    {
     "data": {
      "text/plain": [
       "<matplotlib.collections.PathCollection at 0x203940e9d00>"
      ]
     },
     "execution_count": 5,
     "metadata": {},
     "output_type": "execute_result"
    },
    {
     "data": {
      "image/png": "[encoded data removed]",
      "text/plain": [
       "<Figure size 288x288 with 1 Axes>"
      ]
     },
     "metadata": {
      "needs_background": "light"
     },
     "output_type": "display_data"
    }
   ],
   "source": [
    "plt.figure(figsize=(4,4))\n",
    "plt.xlim(0,1.1)\n",
    "plt.ylim(0,1.1)\n",
    "plt.scatter(x_dat.cpu().numpy(), y_dat.cpu().numpy())"
   ]
  },
  {
   "cell_type": "code",
   "execution_count": 6,
   "id": "67f91351",
   "metadata": {},
   "outputs": [
    {
     "name": "stdout",
     "output_type": "stream",
     "text": [
      "Sizes:\n",
      "x:(1000, 1)\n",
      "y:(1000, 1)\n"
     ]
    },
    {
     "data": {
      "image/png": "[encoded data removed]",
      "text/plain": [
       "<Figure size 288x288 with 1 Axes>"
      ]
     },
     "metadata": {
      "needs_background": "light"
     },
     "output_type": "display_data"
    }
   ],
   "source": [
    "idx = torch.randperm(list(x_dat.size())[0])\n",
    "x_shuffled = torch.unsqueeze(x_dat.view(-1)[idx].view(x_dat.size()), dim=1)\n",
    "y_shuffled = torch.unsqueeze(y_dat.view(-1)[idx].view(y_dat.size()), dim=1)\n",
    "\n",
    "plt.figure(figsize=(4,4))\n",
    "plt.xlim(0,1.1)\n",
    "plt.ylim(0,1.1)\n",
    "plt.scatter(x_shuffled.cpu().numpy(), y_shuffled.cpu().numpy())\n",
    "\n",
    "print (\"Sizes:\")\n",
    "print (f\"x:{tuple(x_shuffled.size())}\")\n",
    "print (f\"y:{tuple(y_shuffled.size())}\")"
   ]
  },
  {
   "cell_type": "code",
   "execution_count": 7,
   "id": "5345e95c",
   "metadata": {},
   "outputs": [],
   "source": [
    "m = len(x_dat)\n",
    "train_size = int(m*0.90)\n",
    "test_size = int(m*0.05)\n",
    "val_size = test_size\n",
    "\n",
    "train_x = x_shuffled[0:train_size]\n",
    "train_y = y_shuffled[0:train_size]\n",
    "\n",
    "test_x = x_shuffled[train_size:train_size+test_size]\n",
    "test_y = y_shuffled[train_size:train_size+test_size]\n",
    "\n",
    "val_x = x_shuffled[train_size+test_size:]\n",
    "val_y = y_shuffled[train_size+test_size:]"
   ]
  },
  {
   "cell_type": "code",
   "execution_count": 8,
   "id": "bad90c4b",
   "metadata": {},
   "outputs": [],
   "source": [
    "## Defining the model\n",
    "\n",
    "model = nn.Sequential(\n",
    "    nn.Linear(1, 100),\n",
    "    nn.ReLU(),\n",
    "    nn.Linear(100,100),\n",
    "    nn.ReLU(),\n",
    "    nn.Linear(100,100),\n",
    "    nn.ReLU(),\n",
    "    nn.Linear(100,100),\n",
    "    nn.ReLU(),\n",
    "    nn.Linear(100,100),\n",
    "    nn.ReLU(),\n",
    "    nn.Linear(100,100),\n",
    "    nn.ReLU(),\n",
    "    nn.Linear(100, 1)\n",
    ")\n",
    "model.to(device)\n",
    "\n",
    "LR = 0.001\n",
    "lambda_l2 = 0.001\n",
    "criterion = torch.nn.MSELoss()\n",
    "optimizer = torch.optim.Adam(model.parameters(), lr = LR, weight_decay = lambda_l2)"
   ]
  },
  {
   "cell_type": "code",
   "execution_count": 9,
   "id": "34ea9434",
   "metadata": {},
   "outputs": [
    {
     "name": "stdout",
     "output_type": "stream",
     "text": [
      "Loss:  0.7310742735862732\n",
      "Loss:  0.030249174684286118\n",
      "Loss:  0.006743449717760086\n",
      "Loss:  2.2218673620955087e-06\n",
      "Loss:  0.02104056254029274\n",
      "Loss:  0.0003479713050182909\n",
      "Loss:  0.0003955982974730432\n",
      "Loss:  0.00185729144141078\n",
      "Loss:  0.0006005660980008543\n",
      "Training Done.\n"
     ]
    }
   ],
   "source": [
    "## Training\n",
    "\n",
    "model.train()\n",
    "for i in range(train_size):\n",
    "    y_pred = model(train_x[i])\n",
    "    \n",
    "    loss = criterion(y_pred, train_y[i])\n",
    "    \n",
    "    optimizer.zero_grad()\n",
    "    loss.backward()\n",
    "    optimizer.step()\n",
    "    if i % 100 == 0:\n",
    "        print (\"Loss: \", loss.item())\n",
    "    \n",
    "print (\"Training Done.\")"
   ]
  },
  {
   "cell_type": "code",
   "execution_count": 10,
   "id": "d80d843b",
   "metadata": {},
   "outputs": [
    {
     "name": "stdout",
     "output_type": "stream",
     "text": [
      "0.003498821948469413\n"
     ]
    }
   ],
   "source": [
    "## Val set evaluation\n",
    "\n",
    "model.eval()\n",
    "test_loss = 0\n",
    "for j in range(val_size):\n",
    "    with torch.no_grad():\n",
    "        y_pred = model(val_x[j])\n",
    "        test_loss += criterion(y_pred, val_y[j]).item()\n",
    "    \n",
    "test_loss /= test_size\n",
    "print (test_loss)"
   ]
  },
  {
   "cell_type": "code",
   "execution_count": 11,
   "id": "296bedbc",
   "metadata": {},
   "outputs": [],
   "source": [
    "## Test set prediction\n",
    "y_pred = torch.zeros(test_size)\n",
    "for k in range(test_size):\n",
    "    with torch.no_grad():    \n",
    "        y_pred[k] = (model(test_x[k]))"
   ]
  },
  {
   "cell_type": "code",
   "execution_count": 12,
   "id": "cf931152",
   "metadata": {},
   "outputs": [
    {
     "data": {
      "text/plain": [
       "<matplotlib.collections.PathCollection at 0x2039403f790>"
      ]
     },
     "execution_count": 12,
     "metadata": {},
     "output_type": "execute_result"
    },
    {
     "data": {
      "image/png": "[encoded data removed]",
      "text/plain": [
       "<Figure size 2304x2304 with 2 Axes>"
      ]
     },
     "metadata": {
      "needs_background": "light"
     },
     "output_type": "display_data"
    }
   ],
   "source": [
    "plt.figure(figsize=(32,32))\n",
    "plt.subplot(2,2,1)\n",
    "plt.scatter(test_x.cpu().numpy(), test_y.cpu().numpy())\n",
    "\n",
    "plt.subplot(2,2,2)\n",
    "plt.scatter(test_x.cpu().numpy(), y_pred.cpu().numpy())"
   ]
  },
  {
   "cell_type": "code",
   "execution_count": null,
   "id": "48af77eb",
   "metadata": {},
   "outputs": [],
   "source": []
  }
 ],
 "metadata": {
  "kernelspec": {
   "display_name": "Python 3 (ipykernel)",
   "language": "python",
   "name": "python3"
  },
  "language_info": {
   "codemirror_mode": {
    "name": "ipython",
    "version": 3
   },
   "file_extension": ".py",
   "mimetype": "text/x-python",
   "name": "python",
   "nbconvert_exporter": "python",
   "pygments_lexer": "ipython3",
   "version": "3.9.12"
  }
 },
 "nbformat": 4,
 "nbformat_minor": 5
}

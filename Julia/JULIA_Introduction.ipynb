{
 "cells": [
  {
   "cell_type": "code",
   "execution_count": 1,
   "id": "9b4c2bf1",
   "metadata": {},
   "outputs": [
    {
     "name": "stdout",
     "output_type": "stream",
     "text": [
      "Hello world\n"
     ]
    }
   ],
   "source": [
    "println(\"Hello world\")"
   ]
  },
  {
   "cell_type": "code",
   "execution_count": 2,
   "id": "cf051b13",
   "metadata": {},
   "outputs": [
    {
     "name": "stdout",
     "output_type": "stream",
     "text": [
      "10\n",
      "10\n",
      "说些什么什么的\n"
     ]
    }
   ],
   "source": [
    "## Variables\n",
    "\n",
    "# space not allowed after println\n",
    "x = 10\n",
    "println(x)\n",
    "\n",
    "何か = 10\n",
    "println(何か)\n",
    "\n",
    "文 = \"说些什么什么的\"\n",
    "println(文)"
   ]
  },
  {
   "cell_type": "code",
   "execution_count": 3,
   "id": "48a4bf82",
   "metadata": {},
   "outputs": [
    {
     "data": {
      "text/plain": [
       "3"
      ]
     },
     "execution_count": 3,
     "metadata": {},
     "output_type": "execute_result"
    }
   ],
   "source": [
    "f(x, y) = x+y\n",
    "\n",
    "f(1, 2)"
   ]
  },
  {
   "cell_type": "code",
   "execution_count": 4,
   "id": "caea3f1b",
   "metadata": {},
   "outputs": [
    {
     "name": "stdout",
     "output_type": "stream",
     "text": [
      "10000\n"
     ]
    }
   ],
   "source": [
    "println(10_000)"
   ]
  },
  {
   "cell_type": "code",
   "execution_count": 5,
   "id": "c0f39b18",
   "metadata": {},
   "outputs": [
    {
     "data": {
      "text/plain": [
       "36.0"
      ]
     },
     "execution_count": 5,
     "metadata": {},
     "output_type": "execute_result"
    }
   ],
   "source": [
    "g(x::Float64, y::Float64) = 2x + 2y\n",
    "\n",
    "g(9.0, 9.0)"
   ]
  },
  {
   "cell_type": "code",
   "execution_count": 6,
   "id": "16801428",
   "metadata": {},
   "outputs": [
    {
     "data": {
      "text/plain": [
       "is_prime (generic function with 1 method)"
      ]
     },
     "execution_count": 6,
     "metadata": {},
     "output_type": "execute_result"
    }
   ],
   "source": [
    "# def is_prime(x):\n",
    "#     for num in range(2,x):\n",
    "#         if x%num == 0:\n",
    "#             return x, False\n",
    "#     return x, True\n",
    "\n",
    "is_prime(x) = \n",
    "if x > 2\n",
    "    for num in (2:x) \n",
    "        if mod(x, num) == 0\n",
    "            return x, false\n",
    "        end\n",
    "    return x, true\n",
    "    end\n",
    "else\n",
    "    return x, true\n",
    "end"
   ]
  },
  {
   "cell_type": "code",
   "execution_count": 7,
   "id": "41d87429",
   "metadata": {},
   "outputs": [
    {
     "name": "stdout",
     "output_type": "stream",
     "text": [
      "false\n"
     ]
    }
   ],
   "source": [
    "_a, _b = is_prime(4)\n",
    "println(_b)"
   ]
  },
  {
   "cell_type": "code",
   "execution_count": 8,
   "id": "9f9db146",
   "metadata": {},
   "outputs": [
    {
     "name": "stdout",
     "output_type": "stream",
     "text": [
      "[0, 1, 2, 3, 5]\n"
     ]
    }
   ],
   "source": [
    "#         start = timeit.default_timer()\n",
    "#         prime_list = []\n",
    "\n",
    "#         for x in range(PRIME_RANGE):\n",
    "#             _val, _bool = is_prime(x)\n",
    "\n",
    "#             if _bool:\n",
    "#                 prime_list.append(_val)\n",
    "\n",
    "#         stop = timeit.default_timer()\n",
    "#         time = (stop - start)*1000\n",
    "#         times_.append(time)\n",
    "\n",
    "#         print ('With is_prime:')\n",
    "#     #     print (f'List of primes: {prime_list}')\n",
    "#         print (f'Number of primes: {len(prime_list)}')\n",
    "#         print (f'Time: {time:.3f}ms')\n",
    "primes = Vector{Int}()\n",
    "\n",
    "A(PRIME_RANGE) =\n",
    "for i in (0:PRIME_RANGE)\n",
    "    _val, _bool = is_prime(i)\n",
    "    if _bool == true\n",
    "        push!(primes, _val)\n",
    "    end\n",
    "end\n",
    "\n",
    "A(5)\n",
    "println(primes)"
   ]
  },
  {
   "cell_type": "code",
   "execution_count": 9,
   "id": "71253419",
   "metadata": {},
   "outputs": [
    {
     "data": {
      "text/plain": [
       "BenchmarkTools.Trial: 10000 samples with 1 evaluation.\n",
       " Range \u001b[90m(\u001b[39m\u001b[36m\u001b[1mmin\u001b[22m\u001b[39m … \u001b[35mmax\u001b[39m\u001b[90m):  \u001b[39m\u001b[36m\u001b[1m150.200 μs\u001b[22m\u001b[39m … \u001b[35m569.596 ms\u001b[39m  \u001b[90m┊\u001b[39m GC \u001b[90m(\u001b[39mmin … max\u001b[90m): \u001b[39m0.00% … 0.00%\n",
       " Time  \u001b[90m(\u001b[39m\u001b[34m\u001b[1mmedian\u001b[22m\u001b[39m\u001b[90m):     \u001b[39m\u001b[34m\u001b[1m185.200 μs               \u001b[22m\u001b[39m\u001b[90m┊\u001b[39m GC \u001b[90m(\u001b[39mmedian\u001b[90m):    \u001b[39m0.00%\n",
       " Time  \u001b[90m(\u001b[39m\u001b[32m\u001b[1mmean\u001b[22m\u001b[39m ± \u001b[32mσ\u001b[39m\u001b[90m):   \u001b[39m\u001b[32m\u001b[1m253.265 μs\u001b[22m\u001b[39m ± \u001b[32m  5.740 ms\u001b[39m  \u001b[90m┊\u001b[39m GC \u001b[90m(\u001b[39mmean ± σ\u001b[90m):  \u001b[39m2.86% ± 1.00%\n",
       "\n",
       "  \u001b[39m▃\u001b[39m▂\u001b[39m▄\u001b[39m▃\u001b[39m▁\u001b[39m \u001b[39m \u001b[39m \u001b[39m \u001b[39m \u001b[39m \u001b[39m \u001b[39m \u001b[39m \u001b[39m▂\u001b[39m▄\u001b[39m▇\u001b[39m▇\u001b[39m█\u001b[34m█\u001b[39m\u001b[39m▇\u001b[39m▆\u001b[39m▅\u001b[39m▅\u001b[39m▄\u001b[39m▄\u001b[39m▃\u001b[39m▃\u001b[39m▃\u001b[39m▂\u001b[39m▂\u001b[39m▂\u001b[39m▂\u001b[39m▂\u001b[39m▂\u001b[39m▁\u001b[39m▂\u001b[39m▁\u001b[39m▂\u001b[39m▂\u001b[39m▂\u001b[39m▂\u001b[39m▁\u001b[39m▁\u001b[39m▂\u001b[39m▁\u001b[39m \u001b[39m \u001b[39m \u001b[39m \u001b[39m \u001b[39m \u001b[39m \u001b[39m \u001b[39m \u001b[39m \u001b[39m \u001b[32m \u001b[39m\u001b[39m \u001b[39m \u001b[39m \u001b[39m \u001b[39m▃\n",
       "  \u001b[39m█\u001b[39m█\u001b[39m█\u001b[39m█\u001b[39m█\u001b[39m▆\u001b[39m▅\u001b[39m▅\u001b[39m▇\u001b[39m▆\u001b[39m▅\u001b[39m▄\u001b[39m▁\u001b[39m▅\u001b[39m█\u001b[39m█\u001b[39m█\u001b[39m█\u001b[39m█\u001b[34m█\u001b[39m\u001b[39m█\u001b[39m█\u001b[39m█\u001b[39m█\u001b[39m█\u001b[39m█\u001b[39m█\u001b[39m█\u001b[39m█\u001b[39m█\u001b[39m█\u001b[39m█\u001b[39m█\u001b[39m█\u001b[39m█\u001b[39m█\u001b[39m█\u001b[39m█\u001b[39m█\u001b[39m█\u001b[39m█\u001b[39m█\u001b[39m█\u001b[39m█\u001b[39m█\u001b[39m█\u001b[39m█\u001b[39m█\u001b[39m█\u001b[39m█\u001b[39m█\u001b[39m█\u001b[39m▇\u001b[39m█\u001b[39m█\u001b[39m▅\u001b[39m▆\u001b[32m▅\u001b[39m\u001b[39m▇\u001b[39m▇\u001b[39m▆\u001b[39m \u001b[39m█\n",
       "  150 μs\u001b[90m        \u001b[39m\u001b[90mHistogram: \u001b[39m\u001b[90m\u001b[1mlog(\u001b[22m\u001b[39m\u001b[90mfrequency\u001b[39m\u001b[90m\u001b[1m)\u001b[22m\u001b[39m\u001b[90m by time\u001b[39m        260 μs \u001b[0m\u001b[1m<\u001b[22m\n",
       "\n",
       " Memory estimate\u001b[90m: \u001b[39m\u001b[33m74.12 KiB\u001b[39m, allocs estimate\u001b[90m: \u001b[39m\u001b[33m4744\u001b[39m."
      ]
     },
     "execution_count": 9,
     "metadata": {},
     "output_type": "execute_result"
    }
   ],
   "source": [
    "using BenchmarkTools\n",
    "\n",
    "@benchmark A(10_000)"
   ]
  },
  {
   "cell_type": "code",
   "execution_count": null,
   "id": "7e88ea50",
   "metadata": {},
   "outputs": [],
   "source": []
  }
 ],
 "metadata": {
  "kernelspec": {
   "display_name": "Julia 1.8.1",
   "language": "julia",
   "name": "julia-1.8"
  },
  "language_info": {
   "file_extension": ".jl",
   "mimetype": "application/julia",
   "name": "julia",
   "version": "1.8.1"
  }
 },
 "nbformat": 4,
 "nbformat_minor": 5
}
